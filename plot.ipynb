{
 "cells": [
  {
   "cell_type": "code",
   "execution_count": 10,
   "metadata": {},
   "outputs": [],
   "source": [
    "import matplotlib.pyplot as plt\n",
    "import numpy as np\n",
    "import os\n",
    "\n",
    "# 数据\n",
    "datasets = ['a1a', 'diabetes', 'mushrooms', 'splice']\n",
    "svm_params = ['0.01', '0.1', '1', '10', '100']\n",
    "mlp_params = ['50', '100', '100,50', '100,200', '100,200,100']\n",
    "svm_results = {\n",
    "    'a1a': [82.83, 84.31, 83.82, 83.76, 83.65],\n",
    "    'diabetes': [74.03, 74.46, 74.46, 73.59, 73.16],\n",
    "    'mushrooms': [98.73, 99.87, 100.00, 100.00, 100.00],\n",
    "    'splice': [84.97, 84.32, 84.74, 84.74, 84.69]\n",
    "}\n",
    "mlp_results = {\n",
    "    'a1a': [81.95, 81.62, 81.15, 81.62, 81.62],\n",
    "    'diabetes': [68.40, 72.29, 69.26, 72.29, 72.29],\n",
    "    'mushrooms': [100.00, 100.00, 100.00, 100.00, 100.00],\n",
    "    'splice': [89.38, 89.93, 88.14, 89.93, 89.93]\n",
    "}\n",
    "\n",
    "# 创建figures文件夹\n",
    "os.makedirs('./figures', exist_ok=True)\n",
    "\n",
    "# 绘制SVM图\n",
    "for dataset in datasets:\n",
    "    plt.figure(figsize=(2, 3))\n",
    "    plt.plot(svm_params, svm_results[dataset], marker='o', linestyle='-', color='b')\n",
    "    plt.title(f'SVM on {dataset}')\n",
    "    plt.xlabel('C value')\n",
    "    # plt.ylabel('Accuracy (%)')\n",
    "    plt.xticks(svm_params)\n",
    "    plt.yticks(np.arange(min(svm_results[dataset])-1, max(svm_results[dataset])+1, 0.5))\n",
    "    plt.grid(True)\n",
    "    plt.savefig(f'./figures/SVM_{dataset}.png', bbox_inches=\"tight\", pad_inches=0.1)\n",
    "    plt.close()\n",
    "\n",
    "# 绘制MLP图\n",
    "for dataset in datasets:\n",
    "    plt.figure(figsize=(2, 3))\n",
    "    plt.plot(mlp_params, mlp_results[dataset], marker='o', linestyle='-', color='r')\n",
    "    plt.title(f'MLP on {dataset}')\n",
    "    plt.xlabel('Hidden Layer Size')\n",
    "    # plt.ylabel('Accuracy (%)')\n",
    "    plt.xticks(mlp_params, rotation=45)\n",
    "    plt.yticks(np.arange(min(mlp_results[dataset])-1, max(mlp_results[dataset])+1, 1))\n",
    "    plt.grid(True)\n",
    "    plt.savefig(f'./figures/MLP_{dataset}.png', bbox_inches=\"tight\", pad_inches=0.1)\n",
    "    plt.close()\n"
   ]
  }
 ],
 "metadata": {
  "kernelspec": {
   "display_name": "Python 3",
   "language": "python",
   "name": "python3"
  },
  "language_info": {
   "codemirror_mode": {
    "name": "ipython",
    "version": 3
   },
   "file_extension": ".py",
   "mimetype": "text/x-python",
   "name": "python",
   "nbconvert_exporter": "python",
   "pygments_lexer": "ipython3",
   "version": "3.8.20"
  }
 },
 "nbformat": 4,
 "nbformat_minor": 2
}
